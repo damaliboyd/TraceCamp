{
 "cells": [
  {
   "cell_type": "code",
   "execution_count": 26,
   "metadata": {},
   "outputs": [
    {
     "data": {
      "text/html": [
       "<img src=\"http://photos.petfinder.com/photos/pets/38960604/2/?bust=1501729247&width=300&-pn.jpg\"/>"
      ],
      "text/plain": [
       "<IPython.core.display.Image object>"
      ]
     },
     "metadata": {},
     "output_type": "display_data"
    },
    {
     "name": "stdout",
     "output_type": "stream",
     "text": [
      "http://photos.petfinder.com/photos/pets/42916715/2/?bust=1538602419&width=300&-pn.jpg\n",
      "Greenly and Brooklyn M.   (2 sweet sisters)\n",
      "19464\n"
     ]
    }
   ],
   "source": [
    "import requests\n",
    "import pprint\n",
    "pp = pprint.PrettyPrinter(indent=4)\n",
    "\n",
    "# Using Petfinder API\n",
    "# https://www.petfinder.com/developers/api-docs\n",
    "# http://api.petfinder.com/my.method?key=12345&arg1=foo\n",
    "# http://api.petfinder.com/breed.list?key=api_key&animal=cat&format=json\n",
    "api_key= \"31b8ef47be5499bd9c27bbc4be9068fc\"\n",
    "api_secret = \"d5feca2097be49af4cf400b345fa8c36\"\n",
    "\n",
    "# Get request\n",
    "# r = requests.get(f'https://api.nasa.gov/planetary/apod?date={date}&api_key={api_key}')\n",
    "r = requests.get(f'http://api.petfinder.com/pet.getRandom?key={api_key}&animal=cat&output=basic&format=json')\n",
    "#print(r.status_code)\n",
    "#pp.pprint(r.json())\n",
    "info = r.json()\n",
    "\n",
    "#print (info['petfinder']['pet']['media']['photos']['photo'])\n",
    "\n",
    "from IPython.display import Image\n",
    "Image(url = url)\n",
    "\n",
    "display(Image(url = url))\n",
    "#url \n",
    "print(info['petfinder']['pet']['media']['photos']['photo'][8]['$t'])\n",
    "#name\n",
    "print(info['petfinder']['pet']['name']['$t'])\n",
    "#location\n",
    "print(info['petfinder']['pet']['contact']['zip']['$t'])\n"
   ]
  },
  {
   "cell_type": "code",
   "execution_count": null,
   "metadata": {},
   "outputs": [],
   "source": []
  },
  {
   "cell_type": "code",
   "execution_count": null,
   "metadata": {},
   "outputs": [],
   "source": []
  }
 ],
 "metadata": {
  "kernelspec": {
   "display_name": "Python 3",
   "language": "python",
   "name": "python3"
  },
  "language_info": {
   "codemirror_mode": {
    "name": "ipython",
    "version": 3
   },
   "file_extension": ".py",
   "mimetype": "text/x-python",
   "name": "python",
   "nbconvert_exporter": "python",
   "pygments_lexer": "ipython3",
   "version": "3.7.2"
  }
 },
 "nbformat": 4,
 "nbformat_minor": 2
}
